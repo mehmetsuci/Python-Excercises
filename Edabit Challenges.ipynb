{
 "cells": [
  {
   "cell_type": "code",
   "execution_count": 3,
   "metadata": {
    "tags": []
   },
   "outputs": [
    {
     "output_type": "stream",
     "name": "stdout",
     "text": "True\nTrue\nFalse\n"
    }
   ],
   "source": [
    "def find_bob(names):\n",
    "    if \"Bob\" in names:\n",
    "        return True\n",
    "    return False\n",
    "        \n",
    "print(find_bob([\"Jimmy\", \"Layla\", \"Bob\"]))\n",
    "print(find_bob([\"Bob\", \"Layla\", \"Kaitlyn\", \"Patricia\"]))\n",
    "print(find_bob([\"Jimmy\", \"Layla\", \"James\"]))"
   ]
  },
  {
   "cell_type": "code",
   "execution_count": 5,
   "metadata": {},
   "outputs": [
    {
     "data": {
      "text/plain": [
       "19.0"
      ]
     },
     "execution_count": 5,
     "metadata": {},
     "output_type": "execute_result"
    }
   ],
   "source": [
    "def century_from_year(year):\n",
    "    if year % 100 == 0:\n",
    "        return year / 100\n",
    "    else: \n",
    "        return (year//100) + 1\n",
    "        \n",
    "century_from_year(2005)\n",
    "century_from_year(1950)\n",
    "century_from_year(1900)"
   ]
  },
  {
   "cell_type": "code",
   "execution_count": null,
   "metadata": {},
   "outputs": [],
   "source": []
  },
  {
   "cell_type": "markdown",
   "metadata": {},
   "source": [
    "https://edabit.com/challenge/pa65DgwG5HMbtf6iY"
   ]
  },
  {
   "cell_type": "code",
   "execution_count": 8,
   "metadata": {},
   "outputs": [],
   "source": [
    "class player():\n",
    "    \n",
    "    def __init__(self, name, age, height, weight):\n",
    "        self.name = name\n",
    "        self.age = age\n",
    "        self.height = height\n",
    "        self.weight = weight\n",
    "    \n",
    "    def get_age(self):\n",
    "        return '{} is age {}'.format(self.name, self.age)\n",
    "    \n",
    "    def get_height(self):\n",
    "        return '{} is {}cm'.format(self.name, self.height)\n",
    "    \n",
    "    def get_weight(self):\n",
    "        return '{} weighs {}kg'.format(self.name, self.weight)"
   ]
  },
  {
   "cell_type": "code",
   "execution_count": 9,
   "metadata": {},
   "outputs": [],
   "source": [
    " p1 = player(\"David Jones\", 25, 175, 75)"
   ]
  },
  {
   "cell_type": "code",
   "execution_count": 10,
   "metadata": {
    "tags": []
   },
   "outputs": [
    {
     "output_type": "stream",
     "name": "stdout",
     "text": "David Jones is age 25\nDavid Jones is 175cm\nDavid Jones weighs 75kg\n"
    }
   ],
   "source": [
    "print(p1.get_age())\n",
    "print(p1.get_height())\n",
    "print(p1.get_weight())"
   ]
  },
  {
   "cell_type": "code",
   "execution_count": null,
   "metadata": {},
   "outputs": [],
   "source": []
  },
  {
   "cell_type": "markdown",
   "metadata": {},
   "source": [
    "Older Than Me"
   ]
  },
  {
   "cell_type": "markdown",
   "metadata": {},
   "source": [
    "https://edabit.com/challenge/JFLADuABfkeoz8mqN"
   ]
  },
  {
   "cell_type": "code",
   "execution_count": 11,
   "metadata": {},
   "outputs": [],
   "source": [
    "class Person:\n",
    "    def __init__(self, name, age):\n",
    "        self.name = name\n",
    "        self.age = age\n",
    "    def compare_age(self, other):\n",
    "        self.other = other\n",
    "        if other.age == self.age:\n",
    "            return '{} is the same age as me.'.format(other.name)\n",
    "        elif other.age > self.age:\n",
    "            return '{} is older than me.'.format(other.name)\n",
    "        elif other.age < self.age:\n",
    "            return '{} is younger than me.'.format(other.name)"
   ]
  },
  {
   "cell_type": "code",
   "execution_count": 12,
   "metadata": {},
   "outputs": [],
   "source": [
    "p1 = Person(\"Samuel\", 24)\n",
    "p2 = Person(\"Joel\", 36)\n",
    "p3 = Person(\"Lily\", 24)"
   ]
  },
  {
   "cell_type": "code",
   "execution_count": 13,
   "metadata": {
    "tags": []
   },
   "outputs": [
    {
     "output_type": "stream",
     "name": "stdout",
     "text": "Joel is older than me.\nSamuel is younger than me.\nLily is the same age as me.\n"
    }
   ],
   "source": [
    "print(p1.compare_age(p2))\n",
    "print(p2.compare_age(p1))\n",
    "print(p1.compare_age(p3))"
   ]
  },
  {
   "cell_type": "markdown",
   "metadata": {},
   "source": [
    "Simple OOP Calculator"
   ]
  },
  {
   "cell_type": "markdown",
   "metadata": {},
   "source": [
    "https://edabit.com/challenge/ta8GBizBNbRGo5iC6"
   ]
  },
  {
   "cell_type": "code",
   "execution_count": 1,
   "metadata": {},
   "outputs": [],
   "source": [
    "class Calculator:\n",
    "\n",
    "    def add(a, b):\n",
    "        print(a + b)\n",
    "    def substract(a, b):\n",
    "        print(a - b)\n",
    "    def multiply(a, b):\n",
    "        print(a * b)\n",
    "    def divide(a, b):\n",
    "        print(a / b)"
   ]
  },
  {
   "cell_type": "code",
   "execution_count": 2,
   "metadata": {},
   "outputs": [],
   "source": [
    "calculator = Calculator()"
   ]
  },
  {
   "cell_type": "code",
   "execution_count": 3,
   "metadata": {},
   "outputs": [
    {
     "output_type": "error",
     "ename": "TypeError",
     "evalue": "add() takes 2 positional arguments but 3 were given",
     "traceback": [
      "\u001b[1;31m---------------------------------------------------------------------------\u001b[0m",
      "\u001b[1;31mTypeError\u001b[0m                                 Traceback (most recent call last)",
      "\u001b[1;32m<ipython-input-3-b1530e578109>\u001b[0m in \u001b[0;36m<module>\u001b[1;34m\u001b[0m\n\u001b[1;32m----> 1\u001b[1;33m \u001b[0mprint\u001b[0m\u001b[1;33m(\u001b[0m\u001b[0mcalculator\u001b[0m\u001b[1;33m.\u001b[0m\u001b[0madd\u001b[0m\u001b[1;33m(\u001b[0m\u001b[1;36m10\u001b[0m\u001b[1;33m,\u001b[0m\u001b[1;36m5\u001b[0m\u001b[1;33m)\u001b[0m\u001b[1;33m)\u001b[0m\u001b[1;33m\u001b[0m\u001b[1;33m\u001b[0m\u001b[0m\n\u001b[0m\u001b[0;32m      2\u001b[0m \u001b[0mprint\u001b[0m\u001b[1;33m(\u001b[0m\u001b[0mcalculator\u001b[0m\u001b[1;33m.\u001b[0m\u001b[0msubtract\u001b[0m\u001b[1;33m(\u001b[0m\u001b[1;36m10\u001b[0m\u001b[1;33m,\u001b[0m\u001b[1;36m5\u001b[0m\u001b[1;33m)\u001b[0m\u001b[1;33m)\u001b[0m\u001b[1;33m\u001b[0m\u001b[1;33m\u001b[0m\u001b[0m\n\u001b[0;32m      3\u001b[0m \u001b[0mprint\u001b[0m\u001b[1;33m(\u001b[0m\u001b[0mcalculator\u001b[0m\u001b[1;33m.\u001b[0m\u001b[0mmultiply\u001b[0m\u001b[1;33m(\u001b[0m\u001b[1;36m10\u001b[0m\u001b[1;33m,\u001b[0m\u001b[1;36m5\u001b[0m\u001b[1;33m)\u001b[0m\u001b[1;33m)\u001b[0m\u001b[1;33m\u001b[0m\u001b[1;33m\u001b[0m\u001b[0m\n\u001b[0;32m      4\u001b[0m \u001b[0mprint\u001b[0m\u001b[1;33m(\u001b[0m\u001b[0mcalculator\u001b[0m\u001b[1;33m.\u001b[0m\u001b[0mdivide\u001b[0m\u001b[1;33m(\u001b[0m\u001b[1;36m10\u001b[0m\u001b[1;33m,\u001b[0m\u001b[1;36m5\u001b[0m\u001b[1;33m)\u001b[0m\u001b[1;33m)\u001b[0m\u001b[1;33m\u001b[0m\u001b[1;33m\u001b[0m\u001b[0m\n",
      "\u001b[1;31mTypeError\u001b[0m: add() takes 2 positional arguments but 3 were given"
     ]
    }
   ],
   "source": [
    "print(calculator.add(10,5))\n",
    "print(calculator.subtract(10,5))\n",
    "print(calculator.multiply(10,5))\n",
    "print(calculator.divide(10,5))"
   ]
  },
  {
   "cell_type": "markdown",
   "metadata": {},
   "source": [
    "Book Shelf"
   ]
  },
  {
   "cell_type": "markdown",
   "metadata": {},
   "source": [
    "https://edabit.com/challenge/uK4Dw7Pise5uCfKqo"
   ]
  },
  {
   "cell_type": "code",
   "execution_count": 2,
   "metadata": {},
   "outputs": [],
   "source": [
    "class Book:\n",
    "\tdef __init__(self, title, author):\n",
    "\t\tself.title = title\n",
    "\t\tself.author = author\n",
    "\t\t\n",
    "\tdef get_title(self):\n",
    "\t\treturn 'Title: {}'.format(self.title)\n",
    "\t\t\n",
    "\tdef get_author(self):\n",
    "\t\treturn 'Author: {}'.format(self.author)\n",
    "\t\n",
    "PP = Book('Pride and Prejudice', 'Jane Austen')\n",
    "H = Book('Hamlet', 'William Shakespeare')\n",
    "HP = Book('War and Peace', 'Leo Tolstoy')"
   ]
  },
  {
   "cell_type": "code",
   "execution_count": 3,
   "metadata": {
    "tags": []
   },
   "outputs": [
    {
     "output_type": "stream",
     "name": "stdout",
     "text": "War and Peace\nLeo Tolstoy\nTitle: War and Peace\nAuthor: Leo Tolstoy\n"
    }
   ],
   "source": [
    "print(HP.title)\n",
    "print(HP.author)\n",
    "print(HP.get_title())\n",
    "print(HP.get_author())"
   ]
  },
  {
   "cell_type": "markdown",
   "metadata": {},
   "source": [
    "Bir Baska Cozum"
   ]
  },
  {
   "cell_type": "code",
   "execution_count": 6,
   "metadata": {},
   "outputs": [],
   "source": [
    "class Book:\n",
    "    title = None\n",
    "    author = None\n",
    "    def __init__(self, book_name_title):\n",
    "        title, author = book_name_title.split('-')\n",
    "        self.title = title.strip()\n",
    "        self.author = author.strip()\n",
    "    def get_title(self):\n",
    "        return 'Title: {}'.format(self.title)\n",
    "    def get_author(self):\n",
    "        return 'Author: {}'.format(self.author)\n",
    "    @classmethod\n",
    "    def from_string(cls, emp_str):\n",
    "        title, author = emp_str.split('-')\n",
    "        return cls(title, author)\n",
    "\n",
    "PP = Book('Pride and Prejudice - Jane Austen')\n",
    "H = Book('Hamlet - William Shakespeare')\n",
    "WP = Book('War and Peace - Leo Tolstoy')"
   ]
  },
  {
   "cell_type": "code",
   "execution_count": 7,
   "metadata": {
    "tags": []
   },
   "outputs": [
    {
     "output_type": "stream",
     "name": "stdout",
     "text": "War and Peace\nLeo Tolstoy\nTitle: War and Peace\nAuthor: Leo Tolstoy\n"
    }
   ],
   "source": [
    "print(HP.title)\n",
    "print(HP.author)\n",
    "print(HP.get_title())\n",
    "print(HP.get_author())"
   ]
  },
  {
   "source": [
    "Word without First Character"
   ],
   "cell_type": "markdown",
   "metadata": {}
  },
  {
   "source": [
    "https://edabit.com/challenge/yeqgXCk6NTpsexQ5B"
   ],
   "cell_type": "markdown",
   "metadata": {}
  },
  {
   "cell_type": "code",
   "execution_count": 7,
   "metadata": {},
   "outputs": [],
   "source": [
    "def new_word(word):\n",
    "\treturn word[1:]"
   ]
  },
  {
   "source": [
    "Reverse the Case"
   ],
   "cell_type": "markdown",
   "metadata": {}
  },
  {
   "source": [
    "https://edabit.com/challenge/o3LWAZtjARJHLtyyb"
   ],
   "cell_type": "markdown",
   "metadata": {}
  },
  {
   "cell_type": "code",
   "execution_count": 8,
   "metadata": {},
   "outputs": [],
   "source": [
    "def reverse_case(txt):\n",
    "\treturn txt.swapcase()"
   ]
  },
  {
   "source": [
    "Hiding the Card Number"
   ],
   "cell_type": "markdown",
   "metadata": {}
  },
  {
   "source": [
    "https://edabit.com/challenge/iRCwdDBkNcHM5QeAm"
   ],
   "cell_type": "markdown",
   "metadata": {}
  },
  {
   "cell_type": "code",
   "execution_count": 9,
   "metadata": {},
   "outputs": [],
   "source": [
    "def card_hide(card):\n",
    "\thidden_part = (len(card) - 4) * '*'\n",
    "\tnew_card = hidden_part + card[-4:]\n",
    "\treturn new_card"
   ]
  },
  {
   "source": [
    "Alphabet Soup"
   ],
   "cell_type": "markdown",
   "metadata": {}
  },
  {
   "source": [
    "https://edabit.com/challenge/4Agr8CTY7x2rAhh5n"
   ],
   "cell_type": "markdown",
   "metadata": {}
  },
  {
   "cell_type": "code",
   "execution_count": 10,
   "metadata": {},
   "outputs": [],
   "source": [
    "def alphabet_soup(txt):\n",
    "\treturn ''.join(sorted(txt))"
   ]
  },
  {
   "source": [
    "Letters Only "
   ],
   "cell_type": "markdown",
   "metadata": {}
  },
  {
   "source": [
    "https://edabit.com/challenge/vqMFpARj3DvELLDmZ"
   ],
   "cell_type": "markdown",
   "metadata": {}
  },
  {
   "cell_type": "code",
   "execution_count": 11,
   "metadata": {},
   "outputs": [
    {
     "output_type": "stream",
     "name": "stdout",
     "text": [
      "['R', 'o', 'c', 'k', 'y']\n"
     ]
    }
   ],
   "source": [
    "a = \"R!=:~0o0./c&}9k`60=y\"\n",
    "a = list(a)\n",
    "new_a = []\n",
    "for i in a:\n",
    "    if i.isalpha():\n",
    "        new_a.append(i)        \n",
    "print(new_a)"
   ]
  },
  {
   "cell_type": "code",
   "execution_count": 12,
   "metadata": {},
   "outputs": [
    {
     "output_type": "execute_result",
     "data": {
      "text/plain": [
       "'Rocky'"
      ]
     },
     "metadata": {},
     "execution_count": 12
    }
   ],
   "source": [
    "def letters_only(txt):\n",
    "\tnew_txt = [i for i in list(txt) if i.isalpha()]\n",
    "\treturn ''.join(new_txt)\n",
    "letters_only('R!=:~0o0./c&}9k`60=y')"
   ]
  },
  {
   "cell_type": "code",
   "execution_count": 14,
   "metadata": {},
   "outputs": [
    {
     "output_type": "execute_result",
     "data": {
      "text/plain": [
       "'Rocky'"
      ]
     },
     "metadata": {},
     "execution_count": 14
    }
   ],
   "source": [
    "def letters_only(txt):\n",
    "\treturn ''.join([i for i in list(txt) if i.isalpha()])\n",
    "letters_only('R!=:~0o0./c&}9k`60=y')"
   ]
  },
  {
   "source": [
    "Sort Numbers in Descending Order"
   ],
   "cell_type": "markdown",
   "metadata": {}
  },
  {
   "source": [
    "https://edabit.com/challenge/B7rfWiJKrwft9yXXC"
   ],
   "cell_type": "markdown",
   "metadata": {}
  },
  {
   "cell_type": "code",
   "execution_count": 8,
   "metadata": {},
   "outputs": [],
   "source": [
    "def sort_descending(num):\n",
    "\tnum = ''.join(sorted(list(str(num)), reverse=True))\n",
    "\treturn int(num)"
   ]
  },
  {
   "cell_type": "code",
   "execution_count": 9,
   "metadata": {},
   "outputs": [
    {
     "output_type": "execute_result",
     "data": {
      "text/plain": [
       "321"
      ]
     },
     "metadata": {},
     "execution_count": 9
    }
   ],
   "source": [
    "sort_descending(123)"
   ]
  },
  {
   "source": [
    "Return the Middle Character(s) of a String"
   ],
   "cell_type": "markdown",
   "metadata": {}
  },
  {
   "source": [
    "https://edabit.com/challenge/527uLRjSofaTsMu36"
   ],
   "cell_type": "markdown",
   "metadata": {}
  },
  {
   "cell_type": "code",
   "execution_count": 44,
   "metadata": {},
   "outputs": [],
   "source": [
    "def get_middle(word):\n",
    "    if len(word) % 2 != 0:\n",
    "        starting = len(word) // 2\n",
    "        return word[starting]\n",
    "    else:\n",
    "        starting = int(len(word) / 2 - 1)\n",
    "        ending = starting + 2\n",
    "        return word[starting : ending]"
   ]
  },
  {
   "cell_type": "code",
   "execution_count": 45,
   "metadata": {},
   "outputs": [
    {
     "output_type": "stream",
     "name": "stdout",
     "text": [
      "es\nt\n"
     ]
    }
   ],
   "source": [
    "print(get_middle(\"test\"))\n",
    "print(get_middle(\"testing\"))"
   ]
  },
  {
   "source": [
    "Finding Nemo"
   ],
   "cell_type": "markdown",
   "metadata": {}
  },
  {
   "source": [
    "https://edabit.com/challenge/ZaEFRDBZ7ZMTiSEce"
   ],
   "cell_type": "markdown",
   "metadata": {}
  },
  {
   "cell_type": "code",
   "execution_count": 21,
   "metadata": {},
   "outputs": [],
   "source": [
    "def find_nemo(sentence):\n",
    "    arr = sentence.split()\n",
    "    print(arr)\n",
    "    if 'Nemo' in arr:\n",
    "        return 'I found Nemo at {}!'.format(arr.index('Nemo') + 1)\n",
    "    else:\n",
    "        return \"I can't find Nemo :(\"\n",
    "    "
   ]
  },
  {
   "cell_type": "code",
   "execution_count": 22,
   "metadata": {},
   "outputs": [
    {
     "output_type": "stream",
     "name": "stdout",
     "text": [
      "['I', 'am', 'finding', 'Nemo', '!']\n"
     ]
    },
    {
     "output_type": "execute_result",
     "data": {
      "text/plain": [
       "'I found Nemo at 4!'"
      ]
     },
     "metadata": {},
     "execution_count": 22
    }
   ],
   "source": [
    "find_nemo(\"I am finding Nemo !\")"
   ]
  },
  {
   "cell_type": "code",
   "execution_count": 20,
   "metadata": {},
   "outputs": [
    {
     "output_type": "stream",
     "name": "stdout",
     "text": [
      "I found Nemo at 5!\nI found Nemo at 8!\nI found Nemo at 5!\nI can't find Nemo :(\nI can't find Nemo :(\nI found Nemo at 1!\n"
     ]
    }
   ],
   "source": [
    "print(find_nemo(\"I am Ne mo Nemo !\"))\n",
    "print(find_nemo(\"N e m o is NEMO NeMo Nemo !\"))\n",
    "print(find_nemo(\"I am Nemo's dad Nemo senior .\"))\n",
    "print(find_nemo(\"Oh, hello !\"))\n",
    "print(find_nemo(\"Is it Nemos, Nemona, Nemoor or Garfield?\"))\n",
    "print(find_nemo(\"Nemo is a clown fish, he has white and orange stripes. Nemo , come back!\"))"
   ]
  },
  {
   "source": [
    "Reverse the Odd Length Words"
   ],
   "cell_type": "markdown",
   "metadata": {}
  },
  {
   "source": [
    "https://edabit.com/challenge/DjyqoxE3WYPe7qYCy"
   ],
   "cell_type": "markdown",
   "metadata": {}
  },
  {
   "cell_type": "code",
   "execution_count": 1,
   "metadata": {},
   "outputs": [],
   "source": [
    "i = 'ayse'"
   ]
  },
  {
   "cell_type": "code",
   "execution_count": 2,
   "metadata": {},
   "outputs": [
    {
     "output_type": "stream",
     "name": "stdout",
     "text": [
      "esya\n"
     ]
    }
   ],
   "source": [
    "i = i[::-1]\n",
    "print(i)"
   ]
  },
  {
   "cell_type": "code",
   "execution_count": 31,
   "metadata": {},
   "outputs": [],
   "source": [
    "def reverse_odd(txt):\n",
    "    # txt = txt.split()\n",
    "    txt = list(txt.split())\n",
    "    # print(txt)\n",
    "    new_txt = [i[::-1] if len(i) % 2 != 0 else i for i in txt]\n",
    "    # for i in txt:\n",
    "    #     if len(i) % 2 != 0:\n",
    "    #         i = i[::-1]\n",
    "    #         print(i)\n",
    "    #         new_txt.append(i)\n",
    "    #     else:\n",
    "    #         new_txt.append(i)\n",
    "    print(new_txt)\n",
    "    return ' '.join(new_txt)"
   ]
  },
  {
   "cell_type": "code",
   "execution_count": 32,
   "metadata": {},
   "outputs": [
    {
     "output_type": "stream",
     "name": "stdout",
     "text": [
      "['sananaB']\n"
     ]
    },
    {
     "output_type": "execute_result",
     "data": {
      "text/plain": [
       "'sananaB'"
      ]
     },
     "metadata": {},
     "execution_count": 32
    }
   ],
   "source": [
    "reverse_odd(\"Bananas\")"
   ]
  },
  {
   "cell_type": "code",
   "execution_count": 33,
   "metadata": {},
   "outputs": [
    {
     "output_type": "stream",
     "name": "stdout",
     "text": [
      "['enO', 'owt', 'eerht', 'four']\n"
     ]
    },
    {
     "output_type": "execute_result",
     "data": {
      "text/plain": [
       "'enO owt eerht four'"
      ]
     },
     "metadata": {},
     "execution_count": 33
    }
   ],
   "source": [
    "reverse_odd(\"One two three four\")"
   ]
  },
  {
   "cell_type": "code",
   "execution_count": null,
   "metadata": {},
   "outputs": [],
   "source": []
  },
  {
   "cell_type": "code",
   "execution_count": null,
   "metadata": {},
   "outputs": [],
   "source": []
  }
 ],
 "metadata": {
  "kernelspec": {
   "display_name": "Python 3",
   "language": "python",
   "name": "python3"
  },
  "language_info": {
   "codemirror_mode": {
    "name": "ipython",
    "version": 3
   },
   "file_extension": ".py",
   "mimetype": "text/x-python",
   "name": "python",
   "nbconvert_exporter": "python",
   "pygments_lexer": "ipython3",
   "version": "3.8.5-final"
  }
 },
 "nbformat": 4,
 "nbformat_minor": 4
}