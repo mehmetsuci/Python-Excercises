{
 "cells": [
  {
   "cell_type": "code",
   "execution_count": 3,
   "metadata": {
    "tags": []
   },
   "outputs": [
    {
     "output_type": "stream",
     "name": "stdout",
     "text": "True\nTrue\nFalse\n"
    }
   ],
   "source": [
    "def find_bob(names):\n",
    "    if \"Bob\" in names:\n",
    "        return True\n",
    "    return False\n",
    "        \n",
    "print(find_bob([\"Jimmy\", \"Layla\", \"Bob\"]))\n",
    "print(find_bob([\"Bob\", \"Layla\", \"Kaitlyn\", \"Patricia\"]))\n",
    "print(find_bob([\"Jimmy\", \"Layla\", \"James\"]))"
   ]
  },
  {
   "cell_type": "code",
   "execution_count": 5,
   "metadata": {},
   "outputs": [
    {
     "data": {
      "text/plain": [
       "19.0"
      ]
     },
     "execution_count": 5,
     "metadata": {},
     "output_type": "execute_result"
    }
   ],
   "source": [
    "def century_from_year(year):\n",
    "    if year % 100 == 0:\n",
    "        return year / 100\n",
    "    else: \n",
    "        return (year//100) + 1\n",
    "        \n",
    "century_from_year(2005)\n",
    "century_from_year(1950)\n",
    "century_from_year(1900)"
   ]
  },
  {
   "cell_type": "code",
   "execution_count": null,
   "metadata": {},
   "outputs": [],
   "source": []
  },
  {
   "cell_type": "markdown",
   "metadata": {},
   "source": [
    "https://edabit.com/challenge/pa65DgwG5HMbtf6iY"
   ]
  },
  {
   "cell_type": "code",
   "execution_count": 8,
   "metadata": {},
   "outputs": [],
   "source": [
    "class player():\n",
    "    \n",
    "    def __init__(self, name, age, height, weight):\n",
    "        self.name = name\n",
    "        self.age = age\n",
    "        self.height = height\n",
    "        self.weight = weight\n",
    "    \n",
    "    def get_age(self):\n",
    "        return '{} is age {}'.format(self.name, self.age)\n",
    "    \n",
    "    def get_height(self):\n",
    "        return '{} is {}cm'.format(self.name, self.height)\n",
    "    \n",
    "    def get_weight(self):\n",
    "        return '{} weighs {}kg'.format(self.name, self.weight)"
   ]
  },
  {
   "cell_type": "code",
   "execution_count": 9,
   "metadata": {},
   "outputs": [],
   "source": [
    " p1 = player(\"David Jones\", 25, 175, 75)"
   ]
  },
  {
   "cell_type": "code",
   "execution_count": 10,
   "metadata": {
    "tags": []
   },
   "outputs": [
    {
     "output_type": "stream",
     "name": "stdout",
     "text": "David Jones is age 25\nDavid Jones is 175cm\nDavid Jones weighs 75kg\n"
    }
   ],
   "source": [
    "print(p1.get_age())\n",
    "print(p1.get_height())\n",
    "print(p1.get_weight())"
   ]
  },
  {
   "cell_type": "code",
   "execution_count": null,
   "metadata": {},
   "outputs": [],
   "source": []
  },
  {
   "cell_type": "markdown",
   "metadata": {},
   "source": [
    "Older Than Me"
   ]
  },
  {
   "cell_type": "markdown",
   "metadata": {},
   "source": [
    "https://edabit.com/challenge/JFLADuABfkeoz8mqN"
   ]
  },
  {
   "cell_type": "code",
   "execution_count": 11,
   "metadata": {},
   "outputs": [],
   "source": [
    "class Person:\n",
    "    def __init__(self, name, age):\n",
    "        self.name = name\n",
    "        self.age = age\n",
    "    def compare_age(self, other):\n",
    "        self.other = other\n",
    "        if other.age == self.age:\n",
    "            return '{} is the same age as me.'.format(other.name)\n",
    "        elif other.age > self.age:\n",
    "            return '{} is older than me.'.format(other.name)\n",
    "        elif other.age < self.age:\n",
    "            return '{} is younger than me.'.format(other.name)"
   ]
  },
  {
   "cell_type": "code",
   "execution_count": 12,
   "metadata": {},
   "outputs": [],
   "source": [
    "p1 = Person(\"Samuel\", 24)\n",
    "p2 = Person(\"Joel\", 36)\n",
    "p3 = Person(\"Lily\", 24)"
   ]
  },
  {
   "cell_type": "code",
   "execution_count": 13,
   "metadata": {
    "tags": []
   },
   "outputs": [
    {
     "output_type": "stream",
     "name": "stdout",
     "text": "Joel is older than me.\nSamuel is younger than me.\nLily is the same age as me.\n"
    }
   ],
   "source": [
    "print(p1.compare_age(p2))\n",
    "print(p2.compare_age(p1))\n",
    "print(p1.compare_age(p3))"
   ]
  },
  {
   "cell_type": "markdown",
   "metadata": {},
   "source": [
    "Simple OOP Calculator"
   ]
  },
  {
   "cell_type": "markdown",
   "metadata": {},
   "source": [
    "https://edabit.com/challenge/ta8GBizBNbRGo5iC6"
   ]
  },
  {
   "cell_type": "code",
   "execution_count": 1,
   "metadata": {},
   "outputs": [],
   "source": [
    "class Calculator:\n",
    "\n",
    "    def add(a, b):\n",
    "        print(a + b)\n",
    "    def substract(a, b):\n",
    "        print(a - b)\n",
    "    def multiply(a, b):\n",
    "        print(a * b)\n",
    "    def divide(a, b):\n",
    "        print(a / b)"
   ]
  },
  {
   "cell_type": "code",
   "execution_count": 2,
   "metadata": {},
   "outputs": [],
   "source": [
    "calculator = Calculator()"
   ]
  },
  {
   "cell_type": "code",
   "execution_count": 3,
   "metadata": {},
   "outputs": [
    {
     "output_type": "error",
     "ename": "TypeError",
     "evalue": "add() takes 2 positional arguments but 3 were given",
     "traceback": [
      "\u001b[1;31m---------------------------------------------------------------------------\u001b[0m",
      "\u001b[1;31mTypeError\u001b[0m                                 Traceback (most recent call last)",
      "\u001b[1;32m<ipython-input-3-b1530e578109>\u001b[0m in \u001b[0;36m<module>\u001b[1;34m\u001b[0m\n\u001b[1;32m----> 1\u001b[1;33m \u001b[0mprint\u001b[0m\u001b[1;33m(\u001b[0m\u001b[0mcalculator\u001b[0m\u001b[1;33m.\u001b[0m\u001b[0madd\u001b[0m\u001b[1;33m(\u001b[0m\u001b[1;36m10\u001b[0m\u001b[1;33m,\u001b[0m\u001b[1;36m5\u001b[0m\u001b[1;33m)\u001b[0m\u001b[1;33m)\u001b[0m\u001b[1;33m\u001b[0m\u001b[1;33m\u001b[0m\u001b[0m\n\u001b[0m\u001b[0;32m      2\u001b[0m \u001b[0mprint\u001b[0m\u001b[1;33m(\u001b[0m\u001b[0mcalculator\u001b[0m\u001b[1;33m.\u001b[0m\u001b[0msubtract\u001b[0m\u001b[1;33m(\u001b[0m\u001b[1;36m10\u001b[0m\u001b[1;33m,\u001b[0m\u001b[1;36m5\u001b[0m\u001b[1;33m)\u001b[0m\u001b[1;33m)\u001b[0m\u001b[1;33m\u001b[0m\u001b[1;33m\u001b[0m\u001b[0m\n\u001b[0;32m      3\u001b[0m \u001b[0mprint\u001b[0m\u001b[1;33m(\u001b[0m\u001b[0mcalculator\u001b[0m\u001b[1;33m.\u001b[0m\u001b[0mmultiply\u001b[0m\u001b[1;33m(\u001b[0m\u001b[1;36m10\u001b[0m\u001b[1;33m,\u001b[0m\u001b[1;36m5\u001b[0m\u001b[1;33m)\u001b[0m\u001b[1;33m)\u001b[0m\u001b[1;33m\u001b[0m\u001b[1;33m\u001b[0m\u001b[0m\n\u001b[0;32m      4\u001b[0m \u001b[0mprint\u001b[0m\u001b[1;33m(\u001b[0m\u001b[0mcalculator\u001b[0m\u001b[1;33m.\u001b[0m\u001b[0mdivide\u001b[0m\u001b[1;33m(\u001b[0m\u001b[1;36m10\u001b[0m\u001b[1;33m,\u001b[0m\u001b[1;36m5\u001b[0m\u001b[1;33m)\u001b[0m\u001b[1;33m)\u001b[0m\u001b[1;33m\u001b[0m\u001b[1;33m\u001b[0m\u001b[0m\n",
      "\u001b[1;31mTypeError\u001b[0m: add() takes 2 positional arguments but 3 were given"
     ]
    }
   ],
   "source": [
    "print(calculator.add(10,5))\n",
    "print(calculator.subtract(10,5))\n",
    "print(calculator.multiply(10,5))\n",
    "print(calculator.divide(10,5))"
   ]
  },
  {
   "cell_type": "markdown",
   "metadata": {},
   "source": [
    "Book Shelf"
   ]
  },
  {
   "cell_type": "markdown",
   "metadata": {},
   "source": [
    "https://edabit.com/challenge/uK4Dw7Pise5uCfKqo"
   ]
  },
  {
   "cell_type": "code",
   "execution_count": 2,
   "metadata": {},
   "outputs": [],
   "source": [
    "class Book:\n",
    "\tdef __init__(self, title, author):\n",
    "\t\tself.title = title\n",
    "\t\tself.author = author\n",
    "\t\t\n",
    "\tdef get_title(self):\n",
    "\t\treturn 'Title: {}'.format(self.title)\n",
    "\t\t\n",
    "\tdef get_author(self):\n",
    "\t\treturn 'Author: {}'.format(self.author)\n",
    "\t\n",
    "PP = Book('Pride and Prejudice', 'Jane Austen')\n",
    "H = Book('Hamlet', 'William Shakespeare')\n",
    "HP = Book('War and Peace', 'Leo Tolstoy')"
   ]
  },
  {
   "cell_type": "code",
   "execution_count": 3,
   "metadata": {
    "tags": []
   },
   "outputs": [
    {
     "output_type": "stream",
     "name": "stdout",
     "text": "War and Peace\nLeo Tolstoy\nTitle: War and Peace\nAuthor: Leo Tolstoy\n"
    }
   ],
   "source": [
    "print(HP.title)\n",
    "print(HP.author)\n",
    "print(HP.get_title())\n",
    "print(HP.get_author())"
   ]
  },
  {
   "cell_type": "markdown",
   "metadata": {},
   "source": [
    "Bir Baska Cozum"
   ]
  },
  {
   "cell_type": "code",
   "execution_count": 6,
   "metadata": {},
   "outputs": [],
   "source": [
    "class Book:\n",
    "    title = None\n",
    "    author = None\n",
    "    def __init__(self, book_name_title):\n",
    "        title, author = book_name_title.split('-')\n",
    "        self.title = title.strip()\n",
    "        self.author = author.strip()\n",
    "    def get_title(self):\n",
    "        return 'Title: {}'.format(self.title)\n",
    "    def get_author(self):\n",
    "        return 'Author: {}'.format(self.author)\n",
    "    @classmethod\n",
    "    def from_string(cls, emp_str):\n",
    "        title, author = emp_str.split('-')\n",
    "        return cls(title, author)\n",
    "\n",
    "PP = Book('Pride and Prejudice - Jane Austen')\n",
    "H = Book('Hamlet - William Shakespeare')\n",
    "WP = Book('War and Peace - Leo Tolstoy')"
   ]
  },
  {
   "cell_type": "code",
   "execution_count": 7,
   "metadata": {
    "tags": []
   },
   "outputs": [
    {
     "output_type": "stream",
     "name": "stdout",
     "text": "War and Peace\nLeo Tolstoy\nTitle: War and Peace\nAuthor: Leo Tolstoy\n"
    }
   ],
   "source": [
    "print(HP.title)\n",
    "print(HP.author)\n",
    "print(HP.get_title())\n",
    "print(HP.get_author())"
   ]
  },
  {
   "source": [
    "Word without First Character"
   ],
   "cell_type": "markdown",
   "metadata": {}
  },
  {
   "source": [
    "https://edabit.com/challenge/yeqgXCk6NTpsexQ5B"
   ],
   "cell_type": "markdown",
   "metadata": {}
  },
  {
   "cell_type": "code",
   "execution_count": 7,
   "metadata": {},
   "outputs": [],
   "source": [
    "def new_word(word):\n",
    "\treturn word[1:]"
   ]
  },
  {
   "source": [
    "Reverse the Case"
   ],
   "cell_type": "markdown",
   "metadata": {}
  },
  {
   "source": [
    "https://edabit.com/challenge/o3LWAZtjARJHLtyyb"
   ],
   "cell_type": "markdown",
   "metadata": {}
  },
  {
   "cell_type": "code",
   "execution_count": 8,
   "metadata": {},
   "outputs": [],
   "source": [
    "def reverse_case(txt):\n",
    "\treturn txt.swapcase()"
   ]
  },
  {
   "source": [
    "Hiding the Card Number"
   ],
   "cell_type": "markdown",
   "metadata": {}
  },
  {
   "source": [
    "https://edabit.com/challenge/iRCwdDBkNcHM5QeAm"
   ],
   "cell_type": "markdown",
   "metadata": {}
  },
  {
   "cell_type": "code",
   "execution_count": 9,
   "metadata": {},
   "outputs": [],
   "source": [
    "def card_hide(card):\n",
    "\thidden_part = (len(card) - 4) * '*'\n",
    "\tnew_card = hidden_part + card[-4:]\n",
    "\treturn new_card"
   ]
  },
  {
   "source": [
    "Alphabet Soup"
   ],
   "cell_type": "markdown",
   "metadata": {}
  },
  {
   "source": [
    "https://edabit.com/challenge/4Agr8CTY7x2rAhh5n"
   ],
   "cell_type": "markdown",
   "metadata": {}
  },
  {
   "cell_type": "code",
   "execution_count": 10,
   "metadata": {},
   "outputs": [],
   "source": [
    "def alphabet_soup(txt):\n",
    "\treturn ''.join(sorted(txt))"
   ]
  },
  {
   "cell_type": "code",
   "execution_count": null,
   "metadata": {},
   "outputs": [],
   "source": [
    " "
   ]
  }
 ],
 "metadata": {
  "kernelspec": {
   "display_name": "Python 3",
   "language": "python",
   "name": "python3"
  },
  "language_info": {
   "codemirror_mode": {
    "name": "ipython",
    "version": 3
   },
   "file_extension": ".py",
   "mimetype": "text/x-python",
   "name": "python",
   "nbconvert_exporter": "python",
   "pygments_lexer": "ipython3",
   "version": "3.8.5-final"
  }
 },
 "nbformat": 4,
 "nbformat_minor": 4
}