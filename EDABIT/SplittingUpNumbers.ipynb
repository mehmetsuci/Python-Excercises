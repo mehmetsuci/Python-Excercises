{
 "metadata": {
  "language_info": {
   "codemirror_mode": {
    "name": "ipython",
    "version": 3
   },
   "file_extension": ".py",
   "mimetype": "text/x-python",
   "name": "python",
   "nbconvert_exporter": "python",
   "pygments_lexer": "ipython3",
   "version": "3.9.2"
  },
  "orig_nbformat": 2,
  "kernelspec": {
   "name": "python3",
   "display_name": "Python 3.9.2 64-bit",
   "metadata": {
    "interpreter": {
     "hash": "5ec24cc9f5f6fed4b379b1e2801ab6ecae928a4ed55537f8d5504dd0f360fe09"
    }
   }
  }
 },
 "nbformat": 4,
 "nbformat_minor": 2,
 "cells": [
  {
   "cell_type": "code",
   "execution_count": 59,
   "metadata": {},
   "outputs": [
    {
     "output_type": "stream",
     "name": "stdout",
     "text": [
      "['9', '3']\n"
     ]
    }
   ],
   "source": [
    "num = 39\n",
    "# print(str(num)[-1])\n",
    "# num = str(num)\n",
    "arr = [i for i in str(num)[::-1]]\n",
    "print(arr)"
   ]
  },
  {
   "cell_type": "code",
   "execution_count": 60,
   "metadata": {},
   "outputs": [
    {
     "output_type": "stream",
     "name": "stdout",
     "text": [
      "9\n30\n"
     ]
    }
   ],
   "source": [
    "for i in range(len(arr)):\n",
    "    print(int(arr[i]) * 10 ** i)"
   ]
  },
  {
   "cell_type": "code",
   "execution_count": 44,
   "metadata": {},
   "outputs": [],
   "source": [
    "def num_split(num):\n",
    "    arr = [i for i in reversed(str(num))]\n",
    "    print(arr)\n",
    "    new_arr = [int(arr[i]) * 10 ** i for i in range(len(arr))]\n",
    "    print(new_arr)\n",
    "    return new_arr[::-1]"
   ]
  },
  {
   "cell_type": "code",
   "execution_count": 45,
   "metadata": {},
   "outputs": [
    {
     "output_type": "stream",
     "name": "stdout",
     "text": [
      "[300, 40, 5]\n"
     ]
    }
   ],
   "source": [
    "print(num_split(345))"
   ]
  },
  {
   "cell_type": "code",
   "execution_count": 52,
   "metadata": {},
   "outputs": [
    {
     "output_type": "stream",
     "name": "stdout",
     "text": [
      "<class 'str'>\n"
     ]
    }
   ],
   "source": [
    "num = 39\n",
    "num = str(num)\n",
    "print(type(num))\n",
    "num = num[::-1]"
   ]
  },
  {
   "cell_type": "code",
   "execution_count": 53,
   "metadata": {},
   "outputs": [
    {
     "output_type": "execute_result",
     "data": {
      "text/plain": [
       "['9', '3']"
      ]
     },
     "metadata": {},
     "execution_count": 53
    }
   ],
   "source": [
    "[i for i in num]"
   ]
  },
  {
   "cell_type": "code",
   "execution_count": null,
   "metadata": {},
   "outputs": [],
   "source": []
  }
 ]
}