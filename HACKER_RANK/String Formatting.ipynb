{
 "metadata": {
  "language_info": {
   "codemirror_mode": {
    "name": "ipython",
    "version": 3
   },
   "file_extension": ".py",
   "mimetype": "text/x-python",
   "name": "python",
   "nbconvert_exporter": "python",
   "pygments_lexer": "ipython3",
   "version": "3.8.5-final"
  },
  "orig_nbformat": 2,
  "kernelspec": {
   "name": "python3",
   "display_name": "Python 3.8.5 64-bit",
   "metadata": {
    "interpreter": {
     "hash": "f23faf4bfe871c203c8bec80520af5927fc7cb1ae3bd834ddf554ee587ad1c05"
    }
   }
  }
 },
 "nbformat": 4,
 "nbformat_minor": 2,
 "cells": [
  {
   "cell_type": "code",
   "execution_count": 1,
   "metadata": {},
   "outputs": [
    {
     "output_type": "stream",
     "name": "stdout",
     "text": [
      "0b1000\n"
     ]
    }
   ],
   "source": [
    "n = 8\n",
    "print(bin(n))"
   ]
  },
  {
   "cell_type": "code",
   "execution_count": 4,
   "metadata": {},
   "outputs": [
    {
     "output_type": "stream",
     "name": "stdout",
     "text": [
      "<class 'str'>\n"
     ]
    }
   ],
   "source": [
    "n = 17\n",
    "print(type(oct(n)))"
   ]
  },
  {
   "cell_type": "code",
   "execution_count": 5,
   "metadata": {},
   "outputs": [
    {
     "output_type": "stream",
     "name": "stdout",
     "text": [
      "The decimal value of 17 is:\n0o21 in octal.\n0x11 in hexadecimal.\n0b10001 in binary.\n"
     ]
    }
   ],
   "source": [
    "# Python program to convert decimal into other number systems\n",
    "dec = 17\n",
    "\n",
    "print(\"The decimal value of\", dec, \"is:\")\n",
    "print(oct(dec), \"in octal.\")\n",
    "print(hex(dec), \"in hexadecimal.\")\n",
    "print(bin(dec), \"in binary.\")\n"
   ]
  },
  {
   "cell_type": "code",
   "execution_count": null,
   "metadata": {},
   "outputs": [],
   "source": []
  },
  {
   "cell_type": "code",
   "execution_count": 6,
   "metadata": {},
   "outputs": [
    {
     "output_type": "stream",
     "name": "stdout",
     "text": [
      "1 1 1 1\n 2  2  2 10\n 3  3  3 11\n  4   4   4 100\n  5   5   5 101\n  6   6   6 110\n  7   7   7 111\n   8   10    8 1000\n   9   11    9 1001\n  10   12    A 1010\n  11   13    B 1011\n  12   14    C 1100\n  13   15    D 1101\n  14   16    E 1110\n  15   17    F 1111\n   16    20    10 10000\n   17    21    11 10001\n"
     ]
    }
   ],
   "source": [
    "n = 17\n",
    "for i in range(1, n + 1):\n",
    "    octal = oct(i).replace('0o', '')\n",
    "    hexadec = hex(i).replace('0x', '').capitalize()\n",
    "    binary = bin(i).replace('0b', '')\n",
    "    len_bin = n.bit_length()\n",
    "    print(str(i).rjust(len_bin, ' '), str(octal).rjust(len_bin, ' '), str(hexadec).rjust(len_bin, ' '), str(binary).rjust(len_bin, ' '))"
   ]
  },
  {
   "cell_type": "code",
   "execution_count": 3,
   "metadata": {},
   "outputs": [
    {
     "output_type": "execute_result",
     "data": {
      "text/plain": [
       "'bba'"
      ]
     },
     "metadata": {},
     "execution_count": 3
    }
   ],
   "source": [
    "a = 'ababababbbababababa'\n",
    "a.replace('ab', '')"
   ]
  },
  {
   "cell_type": "code",
   "execution_count": null,
   "metadata": {},
   "outputs": [],
   "source": []
  },
  {
   "cell_type": "code",
   "execution_count": 28,
   "metadata": {},
   "outputs": [],
   "source": [
    "def print_formatted(n):\n",
    "    for i in range(1,n + 1):\n",
    "        bin_width = n.bit_length()\n",
    "        print(f'{i:{bin_width}d} {i:{bin_width}o} {i:{bin_width}X} {i:{bin_width}b}')"
   ]
  },
  {
   "cell_type": "code",
   "execution_count": 29,
   "metadata": {},
   "outputs": [
    {
     "output_type": "stream",
     "name": "stdout",
     "text": [
      "    1     1     1     1\n    2     2     2    10\n    3     3     3    11\n    4     4     4   100\n    5     5     5   101\n    6     6     6   110\n    7     7     7   111\n    8    10     8  1000\n    9    11     9  1001\n   10    12     A  1010\n   11    13     B  1011\n   12    14     C  1100\n   13    15     D  1101\n   14    16     E  1110\n   15    17     F  1111\n   16    20    10 10000\n   17    21    11 10001\n"
     ]
    }
   ],
   "source": [
    "print_formatted(17)"
   ]
  },
  {
   "cell_type": "code",
   "execution_count": 16,
   "metadata": {},
   "outputs": [
    {
     "output_type": "stream",
     "name": "stdout",
     "text": [
      "   1    1    1    1\n   2    2    2   10\n   3    3    3   11\n   4    4    4  100\n   5    5    5  101\n   6    6    6  110\n   7    7    7  111\n   8   10    8 1000\n   9   11    9 1001\n  10   12    A 1010\n  11   13    B 1011\n  12   14    C 1100\n  13   15    D 1101\n  14   16    E 1110\n  15   17    F 1111\n"
     ]
    }
   ],
   "source": [
    "def fun(N):\n",
    "    width = N.bit_length()\n",
    "    for i in range(1,N+1):\n",
    "        print(\"{0:{width}d} {0:{width}o} {0:{width}X} {0:{width}b}\".format(i,width = width))\n",
    "fun(15)"
   ]
  },
  {
   "cell_type": "code",
   "execution_count": 39,
   "metadata": {},
   "outputs": [
    {
     "output_type": "stream",
     "name": "stdout",
     "text": [
      "3.0900\n"
     ]
    }
   ],
   "source": [
    "print(f'{3.09:.4f}')"
   ]
  },
  {
   "cell_type": "code",
   "execution_count": 23,
   "metadata": {},
   "outputs": [
    {
     "output_type": "stream",
     "name": "stdout",
     "text": [
      "38.63\n"
     ]
    }
   ],
   "source": [
    "print(f'{38.628:.2f}')"
   ]
  },
  {
   "cell_type": "code",
   "execution_count": 30,
   "metadata": {},
   "outputs": [],
   "source": [
    "a = '255 255 255 255'"
   ]
  },
  {
   "cell_type": "code",
   "execution_count": 50,
   "metadata": {},
   "outputs": [
    {
     "output_type": "stream",
     "name": "stdout",
     "text": [
      "FFFFFFFF"
     ]
    }
   ],
   "source": [
    "arr = a.split()\n",
    "for i in arr:\n",
    "    i = int(i)\n",
    "    # pad = i.bit_length()\n",
    "    print(''.join(f'{i:X}'), end='')"
   ]
  },
  {
   "cell_type": "code",
   "execution_count": 51,
   "metadata": {},
   "outputs": [
    {
     "output_type": "execute_result",
     "data": {
      "text/plain": [
       "'0b111'"
      ]
     },
     "metadata": {},
     "execution_count": 51
    }
   ],
   "source": [
    "bin(7)"
   ]
  },
  {
   "cell_type": "code",
   "execution_count": 52,
   "metadata": {},
   "outputs": [
    {
     "output_type": "stream",
     "name": "stdout",
     "text": [
      "0b1000001\n"
     ]
    }
   ],
   "source": [
    "print(bin(65))"
   ]
  },
  {
   "cell_type": "code",
   "execution_count": null,
   "metadata": {},
   "outputs": [],
   "source": []
  }
 ]
}