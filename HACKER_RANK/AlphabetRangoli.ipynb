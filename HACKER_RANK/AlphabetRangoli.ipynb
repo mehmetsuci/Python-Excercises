{
 "metadata": {
  "orig_nbformat": 2,
  "kernelspec": {
   "name": "python3",
   "display_name": "Python 3",
   "language": "python"
  }
 },
 "nbformat": 4,
 "nbformat_minor": 2,
 "cells": [
  {
   "cell_type": "code",
   "execution_count": 1,
   "metadata": {},
   "outputs": [],
   "source": [
    "def print_rangoli(size):\n",
    "    # your code goes here\n",
    "    n=size\n",
    "    l1=list(map(chr,range(97,123)))\n",
    "    x=l1[n-1::-1]+l1[1:n]\n",
    "    m=len('-'.join(x))\n",
    "    for i in range(1,n):\n",
    "        print('-'.join(l1[n-1:n-i:-1]+l1[n-i:n]).center(m,'-'))\n",
    "    for i in range(n,0,-1):\n",
    "        print('-'.join(l1[n-1:n-i:-1]+l1[n-i:n]).center(m,'-'))"
   ]
  },
  {
   "cell_type": "code",
   "execution_count": 2,
   "metadata": {},
   "outputs": [
    {
     "output_type": "stream",
     "name": "stdout",
     "text": [
      "------------g------------\n----------g-f-g----------\n--------g-f-e-f-g--------\n------g-f-e-d-e-f-g------\n----g-f-e-d-c-d-e-f-g----\n--g-f-e-d-c-b-c-d-e-f-g--\ng-f-e-d-c-b-a-b-c-d-e-f-g\n--g-f-e-d-c-b-c-d-e-f-g--\n----g-f-e-d-c-d-e-f-g----\n------g-f-e-d-e-f-g------\n--------g-f-e-f-g--------\n----------g-f-g----------\n------------g------------\n"
     ]
    }
   ],
   "source": [
    "print_rangoli(7)"
   ]
  },
  {
   "cell_type": "code",
   "execution_count": null,
   "metadata": {},
   "outputs": [],
   "source": []
  }
 ]
}