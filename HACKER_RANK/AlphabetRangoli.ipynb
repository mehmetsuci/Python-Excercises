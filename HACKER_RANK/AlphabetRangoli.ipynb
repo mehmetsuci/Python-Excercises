{
 "metadata": {
  "language_info": {
   "codemirror_mode": {
    "name": "ipython",
    "version": 3
   },
   "file_extension": ".py",
   "mimetype": "text/x-python",
   "name": "python",
   "nbconvert_exporter": "python",
   "pygments_lexer": "ipython3",
   "version": 3
  },
  "orig_nbformat": 2
 },
 "nbformat": 4,
 "nbformat_minor": 2,
 "cells": [
  {
   "cell_type": "code",
   "execution_count": null,
   "metadata": {},
   "outputs": [],
   "source": [
    "def print_rangoli(size):\n",
    "    # your code goes here\n",
    "    n=size\n",
    "    l1=list(map(chr,range(97,123)))\n",
    "    x=l1[n-1::-1]+l1[1:n]\n",
    "    m=len('-'.join(x))\n",
    "    for i in range(1,n):\n",
    "        print('-'.join(l1[n-1:n-i:-1]+l1[n-i:n]).center(m,'-'))\n",
    "    for i in range(n,0,-1):\n",
    "        print('-'.join(l1[n-1:n-i:-1]+l1[n-i:n]).center(m,'-'))"
   ]
  }
 ]
}