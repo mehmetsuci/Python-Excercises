{
 "metadata": {
  "orig_nbformat": 2,
  "kernelspec": {
   "name": "python3",
   "display_name": "Python 3",
   "language": "python"
  }
 },
 "nbformat": 4,
 "nbformat_minor": 2,
 "cells": [
  {
   "cell_type": "code",
   "execution_count": 1,
   "metadata": {},
   "outputs": [],
   "source": [
    "number_of_shoes = 10\n",
    "shoe_sizes = [2, 3, 4, 5, 6, 8, 7, 6, 5, 18]\n",
    "number_of_customers = 6\n",
    "total = 0"
   ]
  },
  {
   "cell_type": "code",
   "execution_count": 2,
   "metadata": {},
   "outputs": [
    {
     "output_type": "stream",
     "name": "stdout",
     "text": [
      "['6', '55']\n",
      "[2, 3, 4, 5, 6, 8, 7, 6, 5, 18]\n",
      "[2, 3, 4, 5, 8, 7, 6, 5, 18]\n",
      "55\n",
      "['6', '45']\n",
      "[2, 3, 4, 5, 8, 7, 6, 5, 18]\n",
      "[2, 3, 4, 5, 8, 7, 5, 18]\n",
      "100\n",
      "['6', '55']\n",
      "[2, 3, 4, 5, 8, 7, 5, 18]\n",
      "['4', '40']\n",
      "[2, 3, 4, 5, 8, 7, 5, 18]\n",
      "[2, 3, 5, 8, 7, 5, 18]\n",
      "140\n",
      "['18', '60']\n",
      "[2, 3, 5, 8, 7, 5, 18]\n",
      "[2, 3, 5, 8, 7, 5]\n",
      "200\n",
      "['10', '50']\n",
      "[2, 3, 5, 8, 7, 5]\n",
      "200\n"
     ]
    }
   ],
   "source": [
    "for i in range(number_of_customers):\n",
    "    request = input().split()\n",
    "    print(request)\n",
    "    print(shoe_sizes)\n",
    "    for j in shoe_sizes:\n",
    "        if j == int(request[0]):\n",
    "            shoe_sizes.remove(j)\n",
    "            print(shoe_sizes)\n",
    "            total += int(request[1])\n",
    "            print (total)\n",
    "            break\n",
    "print(total)"
   ]
  },
  {
   "cell_type": "code",
   "execution_count": null,
   "metadata": {},
   "outputs": [],
   "source": []
  }
 ]
}