{
 "metadata": {
  "language_info": {
   "codemirror_mode": {
    "name": "ipython",
    "version": 3
   },
   "file_extension": ".py",
   "mimetype": "text/x-python",
   "name": "python",
   "nbconvert_exporter": "python",
   "pygments_lexer": "ipython3",
   "version": "3.8.5-final"
  },
  "orig_nbformat": 2,
  "kernelspec": {
   "name": "python3",
   "display_name": "Python 3.8.5 64-bit",
   "metadata": {
    "interpreter": {
     "hash": "f23faf4bfe871c203c8bec80520af5927fc7cb1ae3bd834ddf554ee587ad1c05"
    }
   }
  }
 },
 "nbformat": 4,
 "nbformat_minor": 2,
 "cells": [
  {
   "cell_type": "code",
   "execution_count": 1,
   "metadata": {},
   "outputs": [],
   "source": [
    "thickness = 5\n",
    "c = 'H'"
   ]
  },
  {
   "cell_type": "code",
   "execution_count": 6,
   "metadata": {},
   "outputs": [
    {
     "output_type": "stream",
     "name": "stdout",
     "text": [
      "    H    \n   HHH   \n  HHHHH  \n HHHHHHH \nHHHHHHHHH\n"
     ]
    }
   ],
   "source": [
    "#Top Cone\n",
    "for i in range(thickness):\n",
    "    print((c*i).rjust(thickness-1)+c+(c*i).ljust(thickness-1))"
   ]
  },
  {
   "cell_type": "code",
   "execution_count": 11,
   "metadata": {},
   "outputs": [
    {
     "output_type": "stream",
     "name": "stdout",
     "text": [
      "  HHHHH                            HHHHH\n  HHHHH                            HHHHH\n  HHHHH                            HHHHH\n  HHHHH                            HHHHH\n  HHHHH                            HHHHH\n  HHHHH                            HHHHH\n"
     ]
    }
   ],
   "source": [
    "#Top Pillars\n",
    "for i in range(thickness+1):\n",
    "    print((c*thickness).center(thickness*2)+(c*thickness).rjust(thickness*6))"
   ]
  },
  {
   "cell_type": "code",
   "execution_count": 13,
   "metadata": {},
   "outputs": [
    {
     "output_type": "stream",
     "name": "stdout",
     "text": [
      "  HHHHHHHHHHHHHHHHHHHHHHHHH   \n  HHHHHHHHHHHHHHHHHHHHHHHHH   \n  HHHHHHHHHHHHHHHHHHHHHHHHH   \n"
     ]
    }
   ],
   "source": [
    "#Middle Belt\n",
    "for i in range((thickness+1)//2):\n",
    "    print((c*thickness*5).center(thickness*6))"
   ]
  },
  {
   "cell_type": "code",
   "execution_count": 14,
   "metadata": {},
   "outputs": [
    {
     "output_type": "stream",
     "name": "stdout",
     "text": [
      "  HHHHH                            HHHHH\n  HHHHH                            HHHHH\n  HHHHH                            HHHHH\n  HHHHH                            HHHHH\n  HHHHH                            HHHHH\n  HHHHH                            HHHHH\n"
     ]
    }
   ],
   "source": [
    "#Bottom Pillars\n",
    "for i in range(thickness+1):\n",
    "    print((c*thickness).center(thickness*2)+(c*thickness).rjust(thickness*6))"
   ]
  },
  {
   "cell_type": "code",
   "execution_count": 15,
   "metadata": {},
   "outputs": [
    {
     "output_type": "stream",
     "name": "stdout",
     "text": [
      "                    HHHHHHHHH \n                     HHHHHHH  \n                      HHHHH   \n                       HHH    \n                        H     \n"
     ]
    }
   ],
   "source": [
    "#Bottom Cone\n",
    "for i in range(thickness):\n",
    "    print(((c*(thickness-i-1)).rjust(thickness)+c+(c*(thickness-i-1)).ljust(thickness)).rjust(thickness*6))"
   ]
  },
  {
   "cell_type": "code",
   "execution_count": 18,
   "metadata": {},
   "outputs": [
    {
     "output_type": "stream",
     "name": "stdout",
     "text": [
      "    H    \n   HHH   \n  HHHHH  \n HHHHHHH \nHHHHHHHHH\n  HHHHH               HHHHH             \n  HHHHH               HHHHH             \n  HHHHH               HHHHH             \n  HHHHH               HHHHH             \n  HHHHH               HHHHH             \n  HHHHH               HHHHH             \n  HHHHHHHHHHHHHHHHHHHHHHHHH   \n  HHHHHHHHHHHHHHHHHHHHHHHHH   \n  HHHHHHHHHHHHHHHHHHHHHHHHH   \n  HHHHH               HHHHH             \n  HHHHH               HHHHH             \n  HHHHH               HHHHH             \n  HHHHH               HHHHH             \n  HHHHH               HHHHH             \n  HHHHH               HHHHH             \n                    HHHHHHHHH \n                     HHHHHHH  \n                      HHHHH   \n                       HHH    \n                        H     \n"
     ]
    }
   ],
   "source": [
    "#Top Cone\n",
    "for i in range(thickness):\n",
    "    print((c*i).rjust(thickness-1)+c+(c*i).ljust(thickness-1))\n",
    "#Top Pillars\n",
    "for i in range(thickness+1):\n",
    "    print((c*thickness).center(thickness*2)+(c*thickness).center(thickness*6))\n",
    "#Middle Belt\n",
    "for i in range((thickness+1)//2):\n",
    "    print((c*thickness*5).center(thickness*6))\n",
    "#Bottom Pillars\n",
    "for i in range(thickness+1):\n",
    "    print((c*thickness).center(thickness*2)+(c*thickness).center(thickness*6))\n",
    "#Bottom Cone\n",
    "for i in range(thickness):\n",
    "    print(((c*(thickness-i-1)).rjust(thickness)+c+(c*(thickness-i-1)).ljust(thickness)).rjust(thickness*6))\n"
   ]
  },
  {
   "cell_type": "code",
   "execution_count": null,
   "metadata": {},
   "outputs": [],
   "source": []
  }
 ]
}