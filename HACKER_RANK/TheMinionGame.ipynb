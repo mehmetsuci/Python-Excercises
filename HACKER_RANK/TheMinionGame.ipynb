{
 "metadata": {
  "language_info": {
   "codemirror_mode": {
    "name": "ipython",
    "version": 3
   },
   "file_extension": ".py",
   "mimetype": "text/x-python",
   "name": "python",
   "nbconvert_exporter": "python",
   "pygments_lexer": "ipython3",
   "version": 3
  },
  "orig_nbformat": 2
 },
 "nbformat": 4,
 "nbformat_minor": 2,
 "cells": [
  {
   "cell_type": "code",
   "execution_count": null,
   "metadata": {},
   "outputs": [],
   "source": [
    "def minion_game(string):\n",
    "    v = ['A', 'E', 'I', 'O', 'U']\n",
    "    Stuart = Kevin = 0\n",
    "    for i in range(len(string)):\n",
    "        if string[i] in v:\n",
    "            Kevin += len(string) - i\n",
    "        else:\n",
    "            Stuart += len(string) - i\n",
    "    if Stuart > Kevin:\n",
    "        print('Stuart' + ' ' + str(Stuart))\n",
    "    elif Kevin > Stuart:\n",
    "        print('Kevin' + ' ' + str(Kevin))\n",
    "    else:\n",
    "        print('Draw')"
   ]
  }
 ]
}