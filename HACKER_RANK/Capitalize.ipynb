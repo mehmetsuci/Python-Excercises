{
 "metadata": {
  "orig_nbformat": 2,
  "kernelspec": {
   "name": "python3",
   "display_name": "Python 3",
   "language": "python"
  }
 },
 "nbformat": 4,
 "nbformat_minor": 2,
 "cells": [
  {
   "cell_type": "code",
   "execution_count": 37,
   "metadata": {},
   "outputs": [],
   "source": [
    "def solve(s):\n",
    "    s = s.split()\n",
    "    new_list = []\n",
    "    for i in s:\n",
    "        if i[0].isdigit(): \n",
    "            new_list.append(i)\n",
    "        else:\n",
    "            i = i.title()\n",
    "            new_list.append(i)\n",
    "    return ' '.join(new_list)"
   ]
  },
  {
   "cell_type": "code",
   "execution_count": 38,
   "metadata": {},
   "outputs": [
    {
     "output_type": "stream",
     "name": "stdout",
     "text": [
      "['123ab']\n['123ab', 'Fatma']\n123ab Fatma\n"
     ]
    }
   ],
   "source": [
    "print(solve('123ab fatma'))"
   ]
  },
  {
   "cell_type": "code",
   "execution_count": 33,
   "metadata": {},
   "outputs": [
    {
     "output_type": "stream",
     "name": "stdout",
     "text": [
      "Fatma\n"
     ]
    }
   ],
   "source": [
    "print('fatma'.title())"
   ]
  },
  {
   "cell_type": "code",
   "execution_count": 43,
   "metadata": {},
   "outputs": [
    {
     "output_type": "stream",
     "name": "stdout",
     "text": [
      "123ab Fatma\n"
     ]
    }
   ],
   "source": [
    "def solve(s):\n",
    "    s = s.split()\n",
    "    new_list = [i if i[0].isdigit() else i.title() for i in s]\n",
    "    return ' '.join(new_list)\n",
    "print(solve('123ab fatma'))"
   ]
  },
  {
   "cell_type": "code",
   "execution_count": 44,
   "metadata": {},
   "outputs": [
    {
     "output_type": "stream",
     "name": "stdout",
     "text": [
      "123ab Fatma\n"
     ]
    }
   ],
   "source": [
    "def solve(s):\n",
    "    s = [i if i[0].isdigit() else i.title() for i in s.split()]\n",
    "    return ' '.join(s)\n",
    "print(solve('123ab fatma'))"
   ]
  },
  {
   "cell_type": "code",
   "execution_count": null,
   "metadata": {},
   "outputs": [],
   "source": []
  }
 ]
}