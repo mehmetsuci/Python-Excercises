{
 "metadata": {
  "language_info": {
   "codemirror_mode": {
    "name": "ipython",
    "version": 3
   },
   "file_extension": ".py",
   "mimetype": "text/x-python",
   "name": "python",
   "nbconvert_exporter": "python",
   "pygments_lexer": "ipython3",
   "version": "3.8.5-final"
  },
  "orig_nbformat": 2,
  "kernelspec": {
   "name": "python3",
   "display_name": "Python 3.8.5 64-bit",
   "metadata": {
    "interpreter": {
     "hash": "f23faf4bfe871c203c8bec80520af5927fc7cb1ae3bd834ddf554ee587ad1c05"
    }
   }
  }
 },
 "nbformat": 4,
 "nbformat_minor": 2,
 "cells": [
  {
   "cell_type": "code",
   "execution_count": 1,
   "metadata": {},
   "outputs": [],
   "source": [
    "n = 9\n",
    "m = 27"
   ]
  },
  {
   "cell_type": "code",
   "execution_count": 21,
   "metadata": {},
   "outputs": [
    {
     "output_type": "stream",
     "name": "stdout",
     "text": [
      "------------.|.------------\n---------.|..|..|.---------\n------.|..|..|..|..|.------\n---.|..|..|..|..|..|..|.---\n----------WELCOME----------\n---.|..|..|..|..|..|..|.---\n------.|..|..|..|..|.------\n---------.|..|..|.---------\n------------.|.------------\n"
     ]
    }
   ],
   "source": [
    "for i in range(1, n , 2):\n",
    "    print(('.|.' * i).center(m, '-'))\n",
    "print('WELCOME'.center(m, '-'))\n",
    "for i in range(n - 2, 0, -2):\n",
    "    print(('.|.' * i).center(m, '-') )"
   ]
  },
  {
   "cell_type": "code",
   "execution_count": 2,
   "metadata": {},
   "outputs": [
    {
     "output_type": "stream",
     "name": "stdout",
     "text": [
      "---------------.|.---------------\n------------.|..|..|.------------\n---------.|..|..|..|..|.---------\n------.|..|..|..|..|..|..|.------\n---.|..|..|..|..|..|..|..|..|.---\n-------------WELCOME-------------\n---.|..|..|..|..|..|..|..|..|.---\n------.|..|..|..|..|..|..|.------\n---------.|..|..|..|..|.---------\n------------.|..|..|.------------\n---------------.|.---------------\n"
     ]
    }
   ],
   "source": [
    "n, m = map(int, input().split())\n",
    "for i in range(1, n , 2):\n",
    "    print(('.|.' * i).center(m, '-'))\n",
    "print('WELCOME'.center(m, '-'))\n",
    "for i in range(n - 2, 0, -2):\n",
    "    print(('.|.' * i).center(m, '-') )"
   ]
  },
  {
   "cell_type": "code",
   "execution_count": 3,
   "metadata": {},
   "outputs": [
    {
     "output_type": "stream",
     "name": "stdout",
     "text": [
      "---------------\n-----.|..|.----\n--.|..|..|..|.-\n"
     ]
    }
   ],
   "source": [
    "n = 5\n",
    "m = 15\n",
    "for i in range(0, n , 2):\n",
    "    print(('.| i.' *).center(m, '-'))"
   ]
  },
  {
   "cell_type": "code",
   "execution_count": null,
   "metadata": {},
   "outputs": [],
   "source": []
  }
 ]
}